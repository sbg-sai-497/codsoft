{
  "nbformat": 4,
  "nbformat_minor": 0,
  "metadata": {
    "colab": {
      "provenance": []
    },
    "kernelspec": {
      "name": "python3",
      "display_name": "Python 3"
    },
    "language_info": {
      "name": "python"
    }
  },
  "cells": [
    {
      "cell_type": "code",
      "execution_count": 5,
      "metadata": {
        "colab": {
          "base_uri": "https://localhost:8080/"
        },
        "id": "VKShtac4Ne7m",
        "outputId": "c3516a6e-dc67-4a12-b0e8-840ff5caaaed"
      },
      "outputs": [
        {
          "output_type": "stream",
          "name": "stdout",
          "text": [
            "Please enter the path to the Sales dataset CSV file: /content/advertising (1).csv\n",
            "      TV  Radio  Newspaper  Sales\n",
            "0  230.1   37.8       69.2   22.1\n",
            "1   44.5   39.3       45.1   10.4\n",
            "2   17.2   45.9       69.3   12.0\n",
            "3  151.5   41.3       58.5   16.5\n",
            "4  180.8   10.8       58.4   17.9\n",
            "\n",
            "Missing values in the dataset:\n",
            "TV           0\n",
            "Radio        0\n",
            "Newspaper    0\n",
            "Sales        0\n",
            "dtype: int64\n",
            "\n",
            "Mean Squared Error: 2.9078\n",
            "R-squared: 0.9059\n",
            "\n",
            "Predicted sales for new data (TV=150, Radio=30, Newspaper=20): 16.01\n"
          ]
        },
        {
          "output_type": "stream",
          "name": "stderr",
          "text": [
            "/usr/local/lib/python3.10/dist-packages/sklearn/utils/validation.py:2739: UserWarning: X does not have valid feature names, but StandardScaler was fitted with feature names\n",
            "  warnings.warn(\n"
          ]
        }
      ],
      "source": [
        "# Import necessary libraries\n",
        "import pandas as pd\n",
        "from sklearn.model_selection import train_test_split\n",
        "from sklearn.linear_model import LinearRegression\n",
        "from sklearn.metrics import mean_squared_error, r2_score\n",
        "from sklearn.preprocessing import StandardScaler\n",
        "\n",
        "# Step 1: Load the dataset (taking the CSV file path as user input)\n",
        "file_path = input(\"Please enter the path to the Sales dataset CSV file: \")\n",
        "\n",
        "# Read the dataset into a pandas DataFrame\n",
        "data = pd.read_csv('/content/advertising (1).csv')\n",
        "\n",
        "# Step 2: Explore the dataset\n",
        "print(data.head())  # Display the first few rows to understand the structure\n",
        "\n",
        "# Step 3: Check for missing values (if any)\n",
        "print(\"\\nMissing values in the dataset:\")\n",
        "print(data.isnull().sum())\n",
        "\n",
        "# Step 4: Split the data into features (X) and target (y)\n",
        "X = data[['TV', 'Radio', 'Newspaper']]  # Features: Advertising expenditures\n",
        "y = data['Sales']  # Target: Sales\n",
        "\n",
        "# Step 5: Split the data into training and testing sets (80% training, 20% testing)\n",
        "X_train, X_test, y_train, y_test = train_test_split(X, y, test_size=0.2, random_state=42)\n",
        "\n",
        "# Step 6: Feature scaling (Optional, but often helps improve model performance)\n",
        "scaler = StandardScaler()\n",
        "X_train = scaler.fit_transform(X_train)  # Fit and transform the training data\n",
        "X_test = scaler.transform(X_test)  # Only transform the test data\n",
        "\n",
        "# Step 7: Train a Linear Regression model\n",
        "model = LinearRegression()\n",
        "model.fit(X_train, y_train)\n",
        "\n",
        "# Step 8: Make predictions on the test data\n",
        "y_pred = model.predict(X_test)\n",
        "\n",
        "# Step 9: Evaluate the model's performance\n",
        "mse = mean_squared_error(y_test, y_pred)\n",
        "r2 = r2_score(y_test, y_pred)\n",
        "\n",
        "print(f'\\nMean Squared Error: {mse:.4f}')\n",
        "print(f'R-squared: {r2:.4f}')\n",
        "\n",
        "# Step 10: Predict sales for new data (example)\n",
        "new_data = [[150, 30, 20]]  # Example input: TV, Radio, Newspaper expenditures\n",
        "new_data_scaled = scaler.transform(new_data)  # Scale the new data\n",
        "predicted_sales = model.predict(new_data_scaled)\n",
        "print(f\"\\nPredicted sales for new data (TV=150, Radio=30, Newspaper=20): {predicted_sales[0]:.2f}\")\n"
      ]
    }
  ]
}